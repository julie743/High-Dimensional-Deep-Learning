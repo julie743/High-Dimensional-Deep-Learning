{
 "cells": [
  {
   "cell_type": "markdown",
   "metadata": {},
   "source": [
    "<center>\n",
    "<a href=\"http://www.insa-toulouse.fr/\" ><img src=\"http://www.math.univ-toulouse.fr/~besse/Wikistat/Images/logo-insa.jpg\" style=\"float:left; max-width: 120px; display: inline\" alt=\"INSA\"/></a> \n",
    "\n",
    "<a href=\"http://wikistat.fr/\" ><img src=\"http://www.math.univ-toulouse.fr/~besse/Wikistat/Images/wikistat.jpg\" style=\"max-width: 250px; display: inline\"  alt=\"Wikistat\"/></a>\n",
    "\n",
    "<a href=\"http://www.math.univ-toulouse.fr/\" ><img src=\"http://www.math.univ-toulouse.fr/~besse/Wikistat/Images/logo_imt.jpg\" style=\"float:right; max-width: 250px; display: inline\" alt=\"IMT\"/> </a>\n",
    "</center>"
   ]
  },
  {
   "cell_type": "markdown",
   "metadata": {},
   "source": [
    "#  Part 1 : Get started with the PyWavelet library for 1D signals "
   ]
  },
  {
   "cell_type": "markdown",
   "metadata": {},
   "source": [
    "## Wavelet bases"
   ]
  },
  {
   "cell_type": "code",
   "execution_count": null,
   "metadata": {},
   "outputs": [],
   "source": [
    "import pywt\n",
    "import matplotlib.pyplot as plt\n",
    "import numpy as np"
   ]
  },
  {
   "cell_type": "code",
   "execution_count": null,
   "metadata": {},
   "outputs": [],
   "source": [
    "pywt.families()"
   ]
  },
  {
   "cell_type": "code",
   "execution_count": null,
   "metadata": {},
   "outputs": [],
   "source": [
    "pywt.families(short=False)"
   ]
  },
  {
   "cell_type": "code",
   "execution_count": null,
   "metadata": {
    "scrolled": false
   },
   "outputs": [],
   "source": [
    "pywt.wavelist(family='db')\n"
   ]
  },
  {
   "cell_type": "code",
   "execution_count": null,
   "metadata": {},
   "outputs": [],
   "source": [
    "pywt.wavelist(kind='continuous')"
   ]
  },
  {
   "cell_type": "code",
   "execution_count": null,
   "metadata": {},
   "outputs": [],
   "source": [
    "haarwavelet = pywt.Wavelet('haar')\n",
    "print(haarwavelet)"
   ]
  },
  {
   "cell_type": "code",
   "execution_count": null,
   "metadata": {},
   "outputs": [],
   "source": [
    "wavelet = pywt.Wavelet('db1')"
   ]
  },
  {
   "cell_type": "code",
   "execution_count": null,
   "metadata": {},
   "outputs": [],
   "source": [
    "print(wavelet)"
   ]
  },
  {
   "cell_type": "markdown",
   "metadata": {},
   "source": [
    "Definition of the scaling and wavelet functions"
   ]
  },
  {
   "cell_type": "code",
   "execution_count": null,
   "metadata": {},
   "outputs": [],
   "source": [
    "wavelet = pywt.Wavelet('haar')\n",
    "phi, psi, x = wavelet.wavefun(level=1)\n",
    "print (phi)\n",
    "print(psi)\n",
    "print(x)\n",
    "plt.figure(2)\n",
    "plt.subplot(211)\n",
    "plt.step(x,phi,'r--')\n",
    "plt.subplot(212)\n",
    "plt.step(x,psi,'b-')\n",
    "plt.show()"
   ]
  },
  {
   "cell_type": "code",
   "execution_count": null,
   "metadata": {},
   "outputs": [],
   "source": [
    "wavelet = pywt.Wavelet('sym5')\n",
    "phi, psi, x = wavelet.wavefun(level=1)\n",
    "print (phi)\n",
    "print(psi)\n",
    "print(x)\n",
    "p1,=plt.plot(x,phi,'r--')\n",
    "p2,=plt.plot(x,psi,'b-')\n",
    "plt.title(\"scaling and wavelet sym5\")\n",
    "plt.legend([p1, p2], ['Scaling function', 'Wavelet function'])\n",
    "plt.show()\n",
    "# Increase the level value"
   ]
  },
  {
   "cell_type": "markdown",
   "metadata": {},
   "source": [
    "## Wavelet decomposition : wavelet transform\n"
   ]
  },
  {
   "cell_type": "markdown",
   "metadata": {},
   "source": [
    "### Single level discrete wavelet transform\n",
    "\n",
    "With the function pywt.dwt, we obtain at output 2 vectors of coefficients of the same size, calculated at the maximum possible level according to the size of the input data:\n",
    "- the  approximation (or scale) coefficients  and\n",
    "- the detail (or wavelets) coefficients. \n",
    "\n",
    "Avec la fonction pywt.dwt, on obtient en sortie 2 vecteurs de coefficients de même taille, calculés au niveau maximal possible en fonction de la taille des données d'entrée: \n",
    " - les coefficients d'approximation (ou d'échelle) et\n",
    " - les coefficients de détail (ou d'ondelettes)  "
   ]
  },
  {
   "cell_type": "code",
   "execution_count": null,
   "metadata": {},
   "outputs": [],
   "source": [
    "(cA, cD) = pywt.dwt([1, 2, 3, 4, 5,6,7,8], 'db1')\n",
    "(cA1, cD1) = pywt.dwt([8,7, 6, 5, 4, 3, 2, 1], 'db1')\n",
    "#  Approximation (or scale) coefficients \n",
    "print(cA)\n",
    "# Detail (or wavelets) coefficients\n",
    "print(cD)\n",
    "# For a signal of size n, we obtain n / 2 (approximately) scaling coefficients and n / 2 wavelet coefficients\n",
    "print(cA1)\n",
    "print(cD1)\n"
   ]
  },
  {
   "cell_type": "markdown",
   "metadata": {},
   "source": [
    "**Q. ** Recover these results with the definition of the Haar basis"
   ]
  },
  {
   "cell_type": "markdown",
   "metadata": {},
   "source": [
    "### Multi-level decomposition\n",
    "\n",
    "\n",
    "With the function ** wavedec **, we can specify the desired level, we obtain at the output several vectors of coefficients :\n",
    "  - the approximation coefficients (or scale) at the requested level\n",
    "  - the detail coefficients (or wavelet) at all the higher levels, up to the maximum level.\n",
    "  \n",
    "If the value of the level is $ L $, at the output, we get the vectors cAL, cDL, .. cD1, where cD1 is the vector of the detail coefficients at the finest possible level.\n",
    " \n",
    " This corresponds to the following decomposition:\n",
    " \n",
    "  $$ f(x)=\\sum_{ k \\in \\Lambda( j_0)} \\alpha_{j_0,k}\\phi_{j_0,k} + \\sum_{j = j_0}^{J_{max}}\\sum_{k  \\in \\Lambda( j)} \\beta_{j,k} \\psi_{j,k},$$\n",
    " \n",
    "  with $j_0=J_{max} +1-L$\n",
    " \n",
    "- It will be useful to use this decomposition to apply a threshold on the wavelet coefficients $ \\beta_{j, k} $ for $ j \\geq j_0 $. \n",
    "  \n",
    "-------------------------------------\n",
    "\n",
    "Avec la fonction **wavedec**, on peut préciser le niveau souhaité (level); on obtient en sortie plusieurs vecteurs de coefficients  :\n",
    " - les coefficients d'approximation (ou d'échelle) au niveau demandé\n",
    " - les coefficients de détail (ou d'ondelettes) à tous les niveaux supérieurs, jusqu'au niveau maximal. \n",
    " \n",
    "Si la valeur du niveau est $L$, en sortie, on récupère les vecteurs cAL, cDL, .. cD1, où cD1 est le vecteur des coefficient de détail au niveau le plus fin possible. \n",
    " \n",
    "Ceci correspond à la décomposition suivante : \n",
    " \n",
    " $$ f(x)=\\sum_{ k \\in \\Lambda( j_0)} \\alpha_{j_0,k}\\phi_{j_0,k} + \\sum_{j = j_0}^{J_{max}}\\sum_{k  \\in \\Lambda( j)} \\beta_{j,k} \\psi_{j,k},$$\n",
    " \n",
    " avec $j_0=J_{max} +1-L$\n",
    " \n",
    "- Il sera utile d'utiliser cette décomposition pour applique un seuillage sur les coefficients de détails $\\beta_{j,k} $  pour  $ j \\geq j_0$. "
   ]
  },
  {
   "cell_type": "code",
   "execution_count": null,
   "metadata": {
    "scrolled": true
   },
   "outputs": [],
   "source": [
    "from pywt import wavedec\n",
    "\n",
    "coeffs = wavedec([1,2,3,4,5,6,7,8], 'db1',level=2)\n",
    "\n",
    "#print(coeffs[0].shape)\n",
    "#detail=coeffs[-1]\n",
    "#print(detail)\n",
    "\n",
    "print(coeffs)\n",
    "cA2, cD2 , cD1 = coeffs\n",
    "\n",
    "print(cA2)\n",
    "print(cD2)\n",
    "print(cD1)"
   ]
  },
  {
   "cell_type": "markdown",
   "metadata": {},
   "source": [
    "**Q. ** Recover these results with the definition of the Haar basis"
   ]
  },
  {
   "cell_type": "code",
   "execution_count": null,
   "metadata": {},
   "outputs": [],
   "source": [
    "from pywt import wavedec\n",
    "\n",
    "coeffs = wavedec([1,2,3,4,5,6,7,8], 'db1', level=3)\n",
    "print(coeffs)"
   ]
  },
  {
   "cell_type": "markdown",
   "metadata": {},
   "source": [
    "### Maximal level for the decomposition\n",
    "\n"
   ]
  },
  {
   "cell_type": "markdown",
   "metadata": {},
   "source": [
    "\n",
    "Allows you to know at which maximum level you can decompose according to the size of the data and the chosen wavelet basis\n",
    "  \n",
    "-------------------------------------\n",
    "\n",
    "Permet de savoir à quel niveau maximal on peut décomposer en fonction de la taille des données et de la base d'ondelettes choisie "
   ]
  },
  {
   "cell_type": "code",
   "execution_count": null,
   "metadata": {},
   "outputs": [],
   "source": [
    "w = pywt.Wavelet('haar')\n",
    "\n",
    "pywt.dwt_max_level(data_len=1000, filter_len=w.dec_len)\n",
    "\n",
    "# or, more simply \n",
    "\n",
    "pywt.dwt_max_level(1000, w)\n",
    "\n"
   ]
  },
  {
   "cell_type": "markdown",
   "metadata": {},
   "source": [
    "**Q** What do you obtain with data_len=1024"
   ]
  },
  {
   "cell_type": "markdown",
   "metadata": {},
   "source": [
    "###  Signal extension mode (Mode de complétion des données)"
   ]
  },
  {
   "cell_type": "markdown",
   "metadata": {},
   "source": [
    "In order to apply the discrete wavelet transform algorithms, it is necessary to first supplement the data to avoid edge effects. There are several ways to do this, corresponding to different \"modes\" offered by python:\n",
    "\n",
    " - The <b> zero-padding </b> mode which consists of completing with zeros on both sides:\n",
    "$.. \\quad 0 \\quad 0 \\quad|\\quad x_1 \\quad x_2  \\quad.. \\quad x_n \\quad| \\quad 0 \\quad 0 \\quad .. $\n",
    " - The <b> constant-padding </b> mode which consists in replicating the data of the edges on both sides:\n",
    " $.. \\quad x_1 \\quad x_1 \\quad|\\quad x_1 \\quad x_2  \\quad.. \\quad x_n \\quad| \\quad x_n \\quad x_n \\quad .. $\n",
    " - The <b> symmetric-padding </b> mode which consists of symmetrically completing on both sides:\n",
    "$.. \\quad x_2 \\quad x_1 \\quad|\\quad x_1 \\quad x_2  \\quad.. \\quad x_n \\quad| \\quad x_n \\quad x_{n-1} \\quad .. $\n",
    " - The <b> periodic-padding </b> mode which consists in considering that the signal is periodic:\n",
    "$.. \\quad x_{n-1} \\quad x_n \\quad|\\quad x_1 \\quad x_2  \\quad.. \\quad x_n \\quad| \\quad x_1 \\quad x_{2} \\quad .. $\n",
    " - The <b> smooth-padding </b> mode which consists of completing by linear extension from the computed derivative on the edges.\n",
    "---------------------------------------------------------------------------------------------\n",
    "Afin d'appliquer les algorithmes de transformée en ondelette discrète, on a besoin au préalable de compléter les données pour éviter les effets de bords. Il y a plusieurs manières de faire ceci, correspondant à différents \"modes\" proposés par python : \n",
    " - Le mode  <b> zero-padding  </b>  qui consiste à compléter par des zéros de part et d'autre :\n",
    " $.. \\quad 0 \\quad 0 \\quad|\\quad x_1 \\quad x_2  \\quad.. \\quad x_n \\quad| \\quad 0 \\quad 0 \\quad .. $\n",
    " - Le mode  <b> constant-padding  </b>  qui consiste à répliquer les données des bords de part et d'autre :\n",
    " $.. \\quad x_1 \\quad x_1 \\quad|\\quad x_1 \\quad x_2  \\quad.. \\quad x_n \\quad| \\quad x_n \\quad x_n \\quad .. $\n",
    " - Le mode  <b> symmetric-padding  </b>  qui consiste à compléter par symétrie de part et d'autre :\n",
    " $.. \\quad x_2 \\quad x_1 \\quad|\\quad x_1 \\quad x_2  \\quad.. \\quad x_n \\quad| \\quad x_n \\quad x_{n-1} \\quad .. $\n",
    " - Le mode  <b> periodic-padding  </b>  qui consiste à considérer que le signal est périodique :\n",
    " $.. \\quad x_{n-1} \\quad x_n \\quad|\\quad x_1 \\quad x_2  \\quad.. \\quad x_n \\quad| \\quad x_1 \\quad x_{2} \\quad .. $\n",
    " - Le mode  <b> smooth-padding  </b>  qui consiste à compléter par prolongement linéaire à partir de la dérivée calculée sur les bords. "
   ]
  },
  {
   "cell_type": "code",
   "execution_count": null,
   "metadata": {},
   "outputs": [],
   "source": [
    "print(pywt.Modes.modes)"
   ]
  },
  {
   "cell_type": "code",
   "execution_count": null,
   "metadata": {},
   "outputs": [],
   "source": [
    "(cA, cD) = pywt.dwt([1, 2, 3, 4, 5,6], 'db2',pywt.Modes.smooth)\n",
    "print(cA)\n",
    "print(cD)"
   ]
  },
  {
   "cell_type": "code",
   "execution_count": null,
   "metadata": {},
   "outputs": [],
   "source": [
    "(cA, cD) = pywt.dwt([1, 2, 3, 4, 5,6], 'db2','zero')\n",
    "print(cA)\n",
    "print(cD)"
   ]
  },
  {
   "cell_type": "markdown",
   "metadata": {},
   "source": [
    "**Q. ** What do you observe ? Which coefficients are affected by the mode ? "
   ]
  },
  {
   "cell_type": "markdown",
   "metadata": {},
   "source": [
    "##   Signal Reconstruction : Inverse wavelet transform"
   ]
  },
  {
   "cell_type": "markdown",
   "metadata": {},
   "source": [
    "### Single level reconstruction"
   ]
  },
  {
   "cell_type": "code",
   "execution_count": null,
   "metadata": {},
   "outputs": [],
   "source": [
    "(cA, cD) = pywt.dwt([1,2,3,4,5,6,7,8], 'db2')\n",
    "\n",
    "pywt.idwt(cA, cD, 'db2')\n",
    "\n",
    "# We recover the initial signal\n"
   ]
  },
  {
   "cell_type": "code",
   "execution_count": null,
   "metadata": {},
   "outputs": [],
   "source": [
    "(cA, cD) = pywt.dwt([1,2,3,4,5,6], 'db2')\n",
    "\n",
    "A = pywt.idwt(cA, None, 'db2')\n",
    "\n",
    "D = pywt.idwt(None, cD, 'db2')\n",
    "\n",
    "print(A)\n",
    "print(D)\n",
    "\n",
    "# Here we reconstruct separately with the approximaiton coefficients and the detail coefficients \n",
    "\n",
    "print(A + D)\n",
    "\n"
   ]
  },
  {
   "cell_type": "markdown",
   "metadata": {},
   "source": [
    "### Multilevel reconstruction"
   ]
  },
  {
   "cell_type": "code",
   "execution_count": null,
   "metadata": {},
   "outputs": [],
   "source": [
    "\n",
    "coeffs = pywt.wavedec([1,2,3,4,5,6,7,8], 'db1',level=2)\n",
    "\n",
    "pywt.waverec(coeffs, 'db1')\n"
   ]
  },
  {
   "cell_type": "code",
   "execution_count": null,
   "metadata": {},
   "outputs": [],
   "source": [
    "data = [1,2,3,4,5,6,7,8]\n",
    "\n",
    "(cA, cD) = pywt.dwt(data, 'db1')\n",
    "\n",
    "print(cA)\n",
    "print(cD)\n",
    "\n",
    "# Reconstruction\n",
    "pywt.upcoef('a', cA, 'db1') + pywt.upcoef('d', cD, 'db1')\n"
   ]
  },
  {
   "cell_type": "code",
   "execution_count": null,
   "metadata": {},
   "outputs": [],
   "source": [
    "# We can also specify the size of the initial data\n",
    "\n",
    "n = len(data)\n",
    "\n",
    "pywt.upcoef('a', cA, 'db1', take=n) + pywt.upcoef('d', cD, 'db1', take=n)\n"
   ]
  },
  {
   "cell_type": "markdown",
   "metadata": {},
   "source": [
    "##  Wavelet Thresholding (seuillage)"
   ]
  },
  {
   "cell_type": "code",
   "execution_count": null,
   "metadata": {},
   "outputs": [],
   "source": [
    "vect = np.linspace(1, 5, 9)\n",
    "vect "
   ]
  },
  {
   "cell_type": "markdown",
   "metadata": {},
   "source": [
    "** Soft Thresholding **"
   ]
  },
  {
   "cell_type": "code",
   "execution_count": null,
   "metadata": {},
   "outputs": [],
   "source": [
    "pywt.threshold(vect, 2, 'soft')"
   ]
  },
  {
   "cell_type": "markdown",
   "metadata": {},
   "source": [
    "** Hard Thresholding ** "
   ]
  },
  {
   "cell_type": "code",
   "execution_count": null,
   "metadata": {},
   "outputs": [],
   "source": [
    "pywt.threshold(vect, 2, 'hard')"
   ]
  },
  {
   "cell_type": "code",
   "execution_count": null,
   "metadata": {},
   "outputs": [],
   "source": [
    "pywt.threshold(vect, 2, 'greater')"
   ]
  },
  {
   "cell_type": "code",
   "execution_count": null,
   "metadata": {},
   "outputs": [],
   "source": [
    "pywt.threshold(vect, 2, 'less')"
   ]
  },
  {
   "cell_type": "markdown",
   "metadata": {},
   "source": [
    "** Q.** Explain the result of the two previous cells. "
   ]
  },
  {
   "cell_type": "markdown",
   "metadata": {},
   "source": [
    "#  Part 2 : Application to 1D signal denoising"
   ]
  },
  {
   "cell_type": "markdown",
   "metadata": {},
   "source": [
    "Source :  http://jseabold.net/blog/2012/02/23/wavelet-regression-in-python/"
   ]
  },
  {
   "cell_type": "markdown",
   "metadata": {},
   "source": [
    "## Definition  and plots of the signals"
   ]
  },
  {
   "cell_type": "code",
   "execution_count": null,
   "metadata": {},
   "outputs": [],
   "source": [
    "def doppler(x):\n",
    "    \"\"\"\n",
    "    Parameters\n",
    "    ----------\n",
    "    x : array-like\n",
    "        Domain of x is in (0,1]\n",
    " \n",
    "    \"\"\"\n",
    "    if not np.all((x >= 0) & (x <= 1)):\n",
    "        raise ValueError(\"Domain of doppler is x in (0,1]\")\n",
    "    return np.sqrt(x*(1-x))*np.sin((2.1*np.pi)/(x+.05))\n",
    " \n",
    "def blocks(x):\n",
    "    \"\"\"\n",
    "    Piecewise constant function with jumps at t.\n",
    " \n",
    "    Constant scaler is not present in Donoho and Johnstone.\n",
    "    \"\"\"\n",
    "    K = lambda x : (1 + np.sign(x))/2.\n",
    "    t = np.array([[.1, .13, .15, .23, .25, .4, .44, .65, .76, .78, .81]]).T\n",
    "    h = np.array([[4, -5, 3, -4, 5, -4.2, 2.1, 4.3, -3.1, 2.1, -4.2]]).T\n",
    "    return 3.655606 * np.sum(h*K(x-t), axis=0)\n",
    " \n",
    "def bumps(x):\n",
    "    \"\"\"\n",
    "    A sum of bumps with locations t at the same places as jumps in blocks.\n",
    "    The heights h and widths s vary and the individual bumps are of the\n",
    "    form K(t) = 1/(1+|x|)**4\n",
    "    \"\"\"\n",
    "    K = lambda x : (1. + np.abs(x)) ** -4.\n",
    "    t = np.array([[.1, .13, .15, .23, .25, .4, .44, .65, .76, .78, .81]]).T\n",
    "    h = np.array([[4, 5, 3, 4, 5, 4.2, 2.1, 4.3, 3.1, 2.1, 4.2]]).T\n",
    "    w = np.array([[.005, .005, .006, .01, .01, .03, .01, .01, .005, .008, .005]]).T\n",
    "    return np.sum(h*K((x-t)/w), axis=0)\n",
    " \n",
    "def heavisine(x):\n",
    "    \"\"\"\n",
    "    Sinusoid of period 1 with two jumps at t = .3 and .72\n",
    "    \"\"\"\n",
    "    return 4 * np.sin(4*np.pi*x) - np.sign(x - .3) - np.sign(.72 - x)"
   ]
  },
  {
   "cell_type": "code",
   "execution_count": null,
   "metadata": {},
   "outputs": [],
   "source": [
    "x = np.linspace(0,1,2**11)\n",
    "ydop = doppler(x)\n",
    "yblk = blocks(x)\n",
    "ybmp = bumps(x)\n",
    "yhsin = heavisine(x)"
   ]
  },
  {
   "cell_type": "code",
   "execution_count": null,
   "metadata": {
    "scrolled": false
   },
   "outputs": [],
   "source": [
    "fig, axes = plt.subplots(2, 2, figsize=(10,10))\n",
    "p1 = axes[0,0]\n",
    "p2 = axes[0,1]\n",
    "p3 = axes[1,0]\n",
    "p4 = axes[1,1]\n",
    "\n",
    "p1.plot(x,ydop)\n",
    "p1.set_title(\"Doppler\")\n",
    "\n",
    "p2.plot(x,yblk)\n",
    "p2.set_title(\"Blocks\")\n",
    "\n",
    "p3.plot(x,ybmp)\n",
    "p3.set_title(\"Bumps\")\n",
    "\n",
    "p4.set_title(\"HeaviSine\")\n",
    "p4.plot(x,yhsin)\n",
    "\n",
    "#\n",
    "plt.show()"
   ]
  },
  {
   "cell_type": "markdown",
   "metadata": {},
   "source": [
    "## Addition of noise\n",
    "\n",
    "We add a Gaussian noise to the signal observed at $2^8=256$ equispaced points on $[0,1]$. From theses noised observations, we will try to recover the initial signals by using wavelet approximations. "
   ]
  },
  {
   "cell_type": "code",
   "execution_count": null,
   "metadata": {},
   "outputs": [],
   "source": [
    "from scipy import stats\n",
    "\n",
    "np.random.seed(54321)\n",
    "\n",
    "y_doppler = doppler(np.linspace(0,1,2**8))\n",
    "yb_doppler = y_doppler+ 0.2*stats.norm().rvs(2**8)\n",
    "\n",
    "\n",
    "y_blocks = blocks(np.linspace(0,1,2**8))\n",
    "yb_blocks = y_blocks + stats.norm().rvs(2**8)\n",
    "\n",
    "y_bumps = bumps(np.linspace(0,1,2**8))\n",
    "yb_bumps = y_bumps + 0.5*stats.norm().rvs(2**8)\n",
    "\n",
    "y_heavisine =heavisine(np.linspace(0,1,2**8))\n",
    "yb_heavisine = y_heavisine + stats.norm().rvs(2**8)\n",
    "\n"
   ]
  },
  {
   "cell_type": "code",
   "execution_count": null,
   "metadata": {},
   "outputs": [],
   "source": [
    "fig, axes = plt.subplots(2, 2, figsize=(10,10))\n",
    "p1 = axes[0,0]\n",
    "p2 = axes[0,1]\n",
    "p3 = axes[1,0]\n",
    "p4 = axes[1,1]\n",
    "\n",
    "x = np.linspace(0,1,2**8)\n",
    "p1.plot(x,yb_doppler,'.')\n",
    "p1.plot(x,y_doppler,'red')\n",
    "p1.set_title(\"Doppler\")\n",
    "\n",
    "p2.plot(x,yb_blocks,'.')\n",
    "p2.plot(x,y_blocks,'red')\n",
    "p2.set_title(\"Blocks\")\n",
    "\n",
    "p3.plot(x,yb_bumps,'.')\n",
    "p3.plot(x,y_bumps,'red')\n",
    "p3.set_title(\"Bumps\")\n",
    "\n",
    "p4.set_title(\"HeaviSine\")\n",
    "p4.plot(x,y_heavisine,'red')\n",
    "p4.plot(x,yb_heavisine,'.')\n",
    "\n",
    "#\n",
    "plt.show()"
   ]
  },
  {
   "cell_type": "markdown",
   "metadata": {},
   "source": [
    "## Representation of wavelet coefficients by level:\n",
    "\n",
    "**The function below allows to represent the wavelet coefficients by level: **"
   ]
  },
  {
   "cell_type": "code",
   "execution_count": null,
   "metadata": {},
   "outputs": [],
   "source": [
    "def coef_pyramid_plot(coefs, first=0, scale='uniform', ax=None):\n",
    "    \n",
    "    \n",
    "    \"\"\"\n",
    "    Parameters\n",
    "    ----------\n",
    "    coefs : array-like\n",
    "        Wavelet Coefficients. Expects an iterable in order Cdn, Cdn-1, ...,\n",
    "        Cd1, Cd0.\n",
    "    first : int, optional\n",
    "        The first level to plot.\n",
    "    scale : str {'uniform', 'level'}, optional\n",
    "        Scale the coefficients using the same scale or independently by\n",
    "        level.\n",
    "    ax : Axes, optional\n",
    "        Matplotlib Axes instance\n",
    "\n",
    "    Returns\n",
    "    -------\n",
    "    Figure : Matplotlib figure instance\n",
    "        Either the parent figure of `ax` or a new pyplot.Figure instance if\n",
    "        `ax` is None.\n",
    "    \"\"\"\n",
    "\n",
    "    if ax is None:\n",
    "        import matplotlib.pyplot as plt\n",
    "        fig = plt.figure()\n",
    "        ax = fig.add_subplot(111, facecolor='lightgrey')\n",
    "    else:\n",
    "        fig = ax.figure\n",
    "\n",
    "    n_levels = len(coefs)\n",
    "    n = 2**(n_levels - 1) # assumes periodic\n",
    "\n",
    "    if scale == 'uniform':\n",
    "        biggest = [np.max(np.abs(np.hstack(coefs)))] * n_levels\n",
    "    else:\n",
    "        # multiply by 2 so the highest bars only take up .5\n",
    "        biggest = [np.max(np.abs(i))*2 for i in coefs]\n",
    "\n",
    "    for i in range(first,n_levels):\n",
    "        x = np.linspace(2**(n_levels - 2 - i), n - 2**(n_levels - 2 - i), 2**i)\n",
    "        ymin = n_levels - i - 1 + first\n",
    "        yheight = coefs[i]/biggest[i]\n",
    "        ymax = yheight + ymin\n",
    "        ax.vlines(x, ymin, ymax, linewidth=1.1)\n",
    "\n",
    "    ax.set_xlim(0,n)\n",
    "    ax.set_ylim(first - 1, n_levels)\n",
    "    ax.yaxis.set_ticks(np.arange(n_levels-1,first-1,-1))\n",
    "    ax.yaxis.set_ticklabels(np.arange(first,n_levels))\n",
    "    ax.tick_params(top=False, right=False, direction='out', pad=6)\n",
    "    ax.set_ylabel(\"Levels\", fontsize=14)\n",
    "    ax.grid(True, alpha=.85, color='white', axis='y', linestyle='-')\n",
    "    ax.set_title('Wavelet Detail Coefficients', fontsize=16,\n",
    "            position=(.5,1.05))\n",
    "    fig.subplots_adjust(top=.89)\n",
    "\n",
    "    return fig"
   ]
  },
  {
   "cell_type": "markdown",
   "metadata": {},
   "source": [
    "**  Plotting the coefficients of the noisy signals using the coef_pyramid_plot function**"
   ]
  },
  {
   "cell_type": "code",
   "execution_count": null,
   "metadata": {
    "scrolled": true
   },
   "outputs": [],
   "source": [
    "coefs = pywt.wavedec(yb_bumps, 'db1')\n",
    "\n",
    "fig = coef_pyramid_plot(coefs[1:]) ;\n",
    "plt.title(\"Wavelet Detail Coefficients\");\n",
    "\n",
    "fig.tight_layout()\n",
    "\n",
    "plt.show()\n"
   ]
  },
  {
   "cell_type": "markdown",
   "metadata": {},
   "source": [
    "**Q.** Interpret this representation. "
   ]
  },
  {
   "cell_type": "markdown",
   "metadata": {},
   "source": [
    "## Linear approximation: \n",
    "\n",
    "** Linear approximation of the function blocks **: one keeps the approximation coefficients at a certain level, one cancels the detail coefficients  of higher levels. This corresponds to the following decomposition:\n",
    " \n",
    " $$ \\hat{f}(x)=\\sum_{ k \\in \\Lambda( j_0)} \\hat{\\alpha}_{j_0,k}\\phi_{j_0,k} .$$\n",
    " \n",
    " -----------------------------------------------------------------------------------------\n",
    "\n",
    "** Approximation linéaire de la fonction blocks ** : on garde les coefficients d'approximation à un certain niveau, on annule les coefficients de détails de niveaux supérieurs. Ceci correspond à la décomposition suivante : \n",
    " \n",
    " $$ \\hat{f}(x)=\\sum_{ k \\in \\Lambda( j_0)} \\hat{\\alpha}_{j_0,k}\\phi_{j_0,k} .$$\n",
    "\n"
   ]
  },
  {
   "cell_type": "code",
   "execution_count": null,
   "metadata": {},
   "outputs": [],
   "source": [
    "from pywt import wavedec\n",
    "\n",
    "coeffs = wavedec(yb_blocks, 'db1', level=4)\n",
    "\n",
    "cA4, cD4, cD3, cD2 , cD1 = coeffs\n",
    "\n",
    "cD4=np.zeros(len(cD4))\n",
    "cD3=np.zeros(len(cD3))\n",
    "cD2=np.zeros(len(cD2))\n",
    "cD1=np.zeros(len(cD1))\n",
    "\n",
    "coeff_lin4= cA4, cD4, cD3, cD2 , cD1 \n",
    "\n",
    "blocks_rec=pywt.waverec(coeff_lin4, 'db1')\n",
    "\n",
    "x = np.linspace(0,1,2**8)\n",
    "\n",
    "plt.plot(x,y_blocks,'red',label=\"Blocks Function\")\n",
    "plt.plot(x,blocks_rec,'--',label=\"Estimated Function\")\n",
    "plt.title(\"Blocks\")\n",
    "plt.legend()\n",
    "plt.show()"
   ]
  },
  {
   "cell_type": "markdown",
   "metadata": {},
   "source": [
    "** Q **  Does the approximation seem good to you? How many coefficients have we kept?"
   ]
  },
  {
   "cell_type": "code",
   "execution_count": null,
   "metadata": {},
   "outputs": [],
   "source": [
    "from pywt import wavedec\n",
    "\n",
    "coeffs = wavedec(yb_blocks, 'db1', level=2)\n",
    "\n",
    "cA2, cD2 , cD1 = coeffs\n",
    "\n",
    "cD2=np.zeros(len(cD2))\n",
    "cD1=np.zeros(len(cD1))\n",
    "\n",
    "coeff_lin2= cA2, cD2 , cD1 \n",
    "\n",
    "blocks_rec=pywt.waverec(coeff_lin2, 'db1')\n",
    "\n",
    "x = np.linspace(0,1,2**8)\n",
    "\n",
    "plt.plot(x,y_blocks,'red',label=\"Blocks Function\")\n",
    "plt.plot(x,blocks_rec,'--',label=\"Estimated Function\")\n",
    "plt.title(\"Blocks\")\n",
    "plt.legend()\n",
    "plt.show()\n",
    "\n",
    "#Number of non-zero coefficients  : \n",
    "nbcoef=sum(cA2!=0)+sum(cD2!=0)+sum(cD1!=0)\n",
    "print ('Number of non-zero coefficients  = '), nbcoef"
   ]
  },
  {
   "cell_type": "markdown",
   "metadata": {},
   "source": [
    "**Q.**  What is the difference with the previous decomposition ? "
   ]
  },
  {
   "cell_type": "markdown",
   "metadata": {},
   "source": [
    "\n",
    "## Non linear approximation with thresholding \n",
    "\n",
    "** We see that it is preferable to consider a nonlinear approximation by thresholding in order to have a good quality of approximation with less coefficients **\n",
    "\n",
    "- First of all using the single level decomposition\n",
    "- Then using the more suitable multilevel decomposition.\n",
    "\n",
    "-------------------------------------------------------\n",
    "\n",
    "** On voit qu'il est préférable de considérer une approximation non linéaire par seuillage afin d'avoir une bonne qualité d'approximation avec moins de coefficients**\n",
    "\n",
    "- Tout d'abord en utilisant la décomposition single level \n",
    "- Puis en utilisant la décomposition multilevel plus adaptée. "
   ]
  },
  {
   "cell_type": "code",
   "execution_count": null,
   "metadata": {},
   "outputs": [],
   "source": [
    "(cA, cD) = pywt.dwt(yb_blocks, 'db1')\n",
    "\n",
    "#print(cA)\n",
    "#print(cD)\n",
    "\n",
    "sigma=1\n",
    "# Computation of the threshold \n",
    "thresh = sigma*np.sqrt(2*np.log(len(yb_blocks)))\n",
    "\n",
    "# Only the detail coefficients are thresholded\n",
    "\n",
    "cDth=pywt.threshold(cD, thresh, 'hard')\n",
    "\n",
    "#print(cDth)\n",
    "\n"
   ]
  },
  {
   "cell_type": "code",
   "execution_count": null,
   "metadata": {},
   "outputs": [],
   "source": [
    "# Reconstruction\n",
    "yb_blocks_rec= pywt.upcoef('a', cA, 'db1') + pywt.upcoef('d', cDth, 'db1')\n",
    "\n",
    "x = np.linspace(0,1,2**8)\n",
    "\n",
    "plt.plot(x,y_blocks,'red',label=\"Blocks Function\")\n",
    "plt.plot(x,yb_blocks_rec,'--',label=\"Estimated Function\")\n",
    "plt.title(\"Blocks\")\n",
    "plt.legend()\n",
    "plt.show()"
   ]
  },
  {
   "cell_type": "markdown",
   "metadata": {},
   "source": [
    "We see that the reconstruction is still too noisy.This comes from the fact that only the highest level of detail coefficients have been thresholded. We will use the multilevel wavelet decomposition to be able to threshold  more detail coefficients.\n",
    "\n",
    "------------------------------------\n",
    "\n",
    "On voit que la reconstruction est encore beaucoup trop bruitée. \n",
    "Cela vient du fait que l'on a seuillé que les coefficients de détail de niveau le plus élevé. \n",
    "Nous allons utiliser la décomposition en ondelette multiniveau pour pouvoir seuiller beaucoup plus de coefficients de détail. "
   ]
  },
  {
   "cell_type": "code",
   "execution_count": null,
   "metadata": {},
   "outputs": [],
   "source": [
    "from pywt import wavedec\n",
    "\n",
    "coeffs = wavedec(yb_blocks, 'db1', level=4)\n",
    "cA4, cD4, cD3, cD2 , cD1 = coeffs\n",
    "\n",
    "sigma=1\n",
    "# Calcul du seuil \n",
    "thresh = sigma*np.sqrt(2*np.log(len(yb_blocks)))\n",
    "\n",
    "cD4th=pywt.threshold(cD4, thresh, 'soft')\n",
    "cD3th=pywt.threshold(cD3, thresh, 'soft')\n",
    "cD2th=pywt.threshold(cD2, thresh, 'soft')\n",
    "cD1th=pywt.threshold(cD1, thresh, 'soft')\n",
    "\n",
    "coeffsth= cA4, cD4th, cD3th, cD2th , cD1th\n",
    "blocks_rec=pywt.waverec(coeffsth, 'db1')\n",
    "\n",
    "\n",
    "x = np.linspace(0,1,2**8)\n",
    "\n",
    "plt.plot(x,y_blocks,'red',label=\"Blocks Function\")\n",
    "plt.plot(x,blocks_rec,'--',label=\"Estimated Function\")\n",
    "plt.title(\"Blocks\")\n",
    "plt.legend()\n",
    "plt.show()\n",
    "\n",
    "#Reconstruction correcte \n",
    "#Nombre de coefficients non nuls : \n",
    "nbcoef=sum(cD4th!=0)+sum(cD3th!=0)+sum(cD2th!=0)+sum(cD1th!=0)\n",
    "print ('Number of non-zero coefficients  = '), nbcoef"
   ]
  },
  {
   "cell_type": "markdown",
   "metadata": {},
   "source": [
    "** Q ** What do you conclude from this last method ? "
   ]
  }
 ],
 "metadata": {
  "hide_input": false,
  "kernelspec": {
   "display_name": "Python 3 (ipykernel)",
   "language": "python",
   "name": "python3"
  },
  "language_info": {
   "codemirror_mode": {
    "name": "ipython",
    "version": 3
   },
   "file_extension": ".py",
   "mimetype": "text/x-python",
   "name": "python",
   "nbconvert_exporter": "python",
   "pygments_lexer": "ipython3",
   "version": "3.8.5"
  },
  "toc": {
   "base_numbering": 1,
   "nav_menu": {},
   "number_sections": true,
   "sideBar": true,
   "skip_h1_title": false,
   "title_cell": "Table of Contents",
   "title_sidebar": "Contents",
   "toc_cell": false,
   "toc_position": {},
   "toc_section_display": "block",
   "toc_window_display": false
  }
 },
 "nbformat": 4,
 "nbformat_minor": 2
}
